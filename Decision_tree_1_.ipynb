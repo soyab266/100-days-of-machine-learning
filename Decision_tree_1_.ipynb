{
  "cells": [
    {
      "cell_type": "markdown",
      "metadata": {
        "id": "view-in-github",
        "colab_type": "text"
      },
      "source": [
        "<a href=\"https://colab.research.google.com/github/soyab266/100-days-of-machine-learning/blob/main/Decision_tree_1_.ipynb\" target=\"_parent\"><img src=\"https://colab.research.google.com/assets/colab-badge.svg\" alt=\"Open In Colab\"/></a>"
      ]
    },
    {
      "cell_type": "code",
      "source": [
        "import pandas as pd\n",
        "import numpy as np\n",
        "import matplotlib.pyplot as plt\n",
        "%matplotlib inline\n",
        "from sklearn.model_selection import train_test_split\n",
        "from sklearn.datasets import load_iris"
      ],
      "metadata": {
        "id": "kBf6441qGjgy"
      },
      "execution_count": 2,
      "outputs": []
    },
    {
      "cell_type": "code",
      "source": [
        "iris=load_iris()"
      ],
      "metadata": {
        "id": "YC3wRzJ2l4As"
      },
      "execution_count": 3,
      "outputs": []
    },
    {
      "cell_type": "code",
      "source": [
        "iris.data.shape"
      ],
      "metadata": {
        "id": "c4OLUqRK0Ek4",
        "colab": {
          "base_uri": "https://localhost:8080/"
        },
        "outputId": "ea8502dc-77ff-49aa-c462-b8c1ee793db2"
      },
      "execution_count": 4,
      "outputs": [
        {
          "output_type": "execute_result",
          "data": {
            "text/plain": [
              "(150, 4)"
            ]
          },
          "metadata": {},
          "execution_count": 4
        }
      ]
    },
    {
      "cell_type": "code",
      "source": [
        "x=iris.data"
      ],
      "metadata": {
        "id": "-TapdEp40EoS"
      },
      "execution_count": 5,
      "outputs": []
    },
    {
      "cell_type": "code",
      "source": [
        "y=iris.target"
      ],
      "metadata": {
        "id": "dmWLADr_i23o"
      },
      "execution_count": 7,
      "outputs": []
    },
    {
      "cell_type": "code",
      "source": [
        "x.shape"
      ],
      "metadata": {
        "id": "lr18qLHoi27J",
        "colab": {
          "base_uri": "https://localhost:8080/"
        },
        "outputId": "e7c5177d-3902-4f9d-9265-7ac84b24226c"
      },
      "execution_count": 8,
      "outputs": [
        {
          "output_type": "execute_result",
          "data": {
            "text/plain": [
              "(150, 4)"
            ]
          },
          "metadata": {},
          "execution_count": 8
        }
      ]
    },
    {
      "cell_type": "code",
      "source": [
        "y.shape"
      ],
      "metadata": {
        "id": "aEHVFxyui2-m",
        "colab": {
          "base_uri": "https://localhost:8080/"
        },
        "outputId": "4f5a323c-22bc-4eea-f8d0-a44bd75b0ec7"
      },
      "execution_count": 9,
      "outputs": [
        {
          "output_type": "execute_result",
          "data": {
            "text/plain": [
              "(150,)"
            ]
          },
          "metadata": {},
          "execution_count": 9
        }
      ]
    },
    {
      "cell_type": "code",
      "source": [
        "x_train, x_test, y_train, y_test= train_test_split(x, y ,test_size=0.2)"
      ],
      "metadata": {
        "id": "lD0HgLGoYTm9"
      },
      "execution_count": 53,
      "outputs": []
    },
    {
      "cell_type": "code",
      "source": [
        "x_train.shape"
      ],
      "metadata": {
        "id": "4ZnRte61YTqQ",
        "colab": {
          "base_uri": "https://localhost:8080/"
        },
        "outputId": "ccc6cfc4-0ead-46a5-9777-14ad96ee2f8a"
      },
      "execution_count": 54,
      "outputs": [
        {
          "output_type": "execute_result",
          "data": {
            "text/plain": [
              "(120, 4)"
            ]
          },
          "metadata": {},
          "execution_count": 54
        }
      ]
    },
    {
      "cell_type": "code",
      "source": [
        "x_test.shape"
      ],
      "metadata": {
        "id": "GLaC1fYKYTto",
        "colab": {
          "base_uri": "https://localhost:8080/"
        },
        "outputId": "bf665a8c-4a99-40dd-f761-19af104eb8e2"
      },
      "execution_count": 55,
      "outputs": [
        {
          "output_type": "execute_result",
          "data": {
            "text/plain": [
              "(30, 4)"
            ]
          },
          "metadata": {},
          "execution_count": 55
        }
      ]
    },
    {
      "cell_type": "code",
      "source": [
        "from sklearn.tree import DecisionTreeClassifier"
      ],
      "metadata": {
        "id": "bjGMMVZE13V1"
      },
      "execution_count": 56,
      "outputs": []
    },
    {
      "cell_type": "code",
      "source": [
        "clf=DecisionTreeClassifier( criterion=\"entropy\")\n",
        "clf.fit(x_train, y_train)\n"
      ],
      "metadata": {
        "colab": {
          "base_uri": "https://localhost:8080/"
        },
        "id": "IkZD_59s13dj",
        "outputId": "76947678-ab09-4030-b859-444b0a849137"
      },
      "execution_count": 57,
      "outputs": [
        {
          "output_type": "execute_result",
          "data": {
            "text/plain": [
              "DecisionTreeClassifier(criterion='entropy')"
            ]
          },
          "metadata": {},
          "execution_count": 57
        }
      ]
    },
    {
      "cell_type": "code",
      "source": [
        "y_pred=clf.predict(x_test)"
      ],
      "metadata": {
        "id": "2d33qmVp13gf"
      },
      "execution_count": 59,
      "outputs": []
    },
    {
      "cell_type": "code",
      "source": [
        "from sklearn.metrics import accuracy_score"
      ],
      "metadata": {
        "id": "b6_phEGU13jU"
      },
      "execution_count": 58,
      "outputs": []
    },
    {
      "cell_type": "code",
      "source": [
        "accuracy_score(y_pred, y_test)"
      ],
      "metadata": {
        "colab": {
          "base_uri": "https://localhost:8080/"
        },
        "id": "2FV6zQ-r3VdE",
        "outputId": "092e0e21-cf50-4a93-c0a9-81f8d492c894"
      },
      "execution_count": 60,
      "outputs": [
        {
          "output_type": "execute_result",
          "data": {
            "text/plain": [
              "0.9333333333333333"
            ]
          },
          "metadata": {},
          "execution_count": 60
        }
      ]
    },
    {
      "cell_type": "code",
      "source": [
        "from sklearn.tree import plot_tree"
      ],
      "metadata": {
        "id": "E7rqVsjx3VgA"
      },
      "execution_count": 61,
      "outputs": []
    },
    {
      "cell_type": "code",
      "source": [
        "plot_tree(clf)"
      ],
      "metadata": {
        "colab": {
          "base_uri": "https://localhost:8080/",
          "height": 508
        },
        "id": "Ak1jCH3F3Vi9",
        "outputId": "012b252b-d39d-43b5-c795-ace9baae8acd"
      },
      "execution_count": 62,
      "outputs": [
        {
          "output_type": "execute_result",
          "data": {
            "text/plain": [
              "[Text(0.4, 0.9166666666666666, 'X[3] <= 0.75\\nentropy = 1.584\\nsamples = 120\\nvalue = [38, 40, 42]'),\n",
              " Text(0.3, 0.75, 'entropy = 0.0\\nsamples = 38\\nvalue = [38, 0, 0]'),\n",
              " Text(0.5, 0.75, 'X[2] <= 4.85\\nentropy = 1.0\\nsamples = 82\\nvalue = [0, 40, 42]'),\n",
              " Text(0.2, 0.5833333333333334, 'X[3] <= 1.65\\nentropy = 0.286\\nsamples = 40\\nvalue = [0, 38, 2]'),\n",
              " Text(0.1, 0.4166666666666667, 'entropy = 0.0\\nsamples = 37\\nvalue = [0, 37, 0]'),\n",
              " Text(0.3, 0.4166666666666667, 'X[1] <= 3.0\\nentropy = 0.918\\nsamples = 3\\nvalue = [0, 1, 2]'),\n",
              " Text(0.2, 0.25, 'entropy = 0.0\\nsamples = 2\\nvalue = [0, 0, 2]'),\n",
              " Text(0.4, 0.25, 'entropy = 0.0\\nsamples = 1\\nvalue = [0, 1, 0]'),\n",
              " Text(0.8, 0.5833333333333334, 'X[3] <= 1.75\\nentropy = 0.276\\nsamples = 42\\nvalue = [0, 2, 40]'),\n",
              " Text(0.7, 0.4166666666666667, 'X[2] <= 5.35\\nentropy = 0.971\\nsamples = 5\\nvalue = [0, 2, 3]'),\n",
              " Text(0.6, 0.25, 'X[3] <= 1.55\\nentropy = 0.918\\nsamples = 3\\nvalue = [0, 2, 1]'),\n",
              " Text(0.5, 0.08333333333333333, 'entropy = 0.0\\nsamples = 1\\nvalue = [0, 0, 1]'),\n",
              " Text(0.7, 0.08333333333333333, 'entropy = 0.0\\nsamples = 2\\nvalue = [0, 2, 0]'),\n",
              " Text(0.8, 0.25, 'entropy = 0.0\\nsamples = 2\\nvalue = [0, 0, 2]'),\n",
              " Text(0.9, 0.4166666666666667, 'entropy = 0.0\\nsamples = 37\\nvalue = [0, 0, 37]')]"
            ]
          },
          "metadata": {},
          "execution_count": 62
        },
        {
          "output_type": "display_data",
          "data": {
            "text/plain": [
              "<Figure size 432x288 with 1 Axes>"
            ],
            "image/png": "[encoded data removed]"
          },
          "metadata": {
            "needs_background": "light"
          }
        }
      ]
    },
    {
      "cell_type": "code",
      "source": [
        "df=pd.read_csv('/content/Social_Network_Ads.csv')"
      ],
      "metadata": {
        "id": "C2r8-Ydo3VmN"
      },
      "execution_count": 63,
      "outputs": []
    },
    {
      "cell_type": "code",
      "source": [
        "df.head()"
      ],
      "metadata": {
        "colab": {
          "base_uri": "https://localhost:8080/",
          "height": 206
        },
        "id": "BXMinIoP3VpL",
        "outputId": "20bbbfe0-4d85-4fb0-b564-3b78fde6d2a5"
      },
      "execution_count": 64,
      "outputs": [
        {
          "output_type": "execute_result",
          "data": {
            "text/plain": [
              "    User ID  Gender  Age  EstimatedSalary  Purchased\n",
              "0  15624510    Male   19            19000          0\n",
              "1  15810944    Male   35            20000          0\n",
              "2  15668575  Female   26            43000          0\n",
              "3  15603246  Female   27            57000          0\n",
              "4  15804002    Male   19            76000          0"
            ],
            "text/html": [
              "\n",
              "  <div id=\"df-8cfa6450-27cf-4b33-ac04-a946784a7e2d\">\n",
              "    <div class=\"colab-df-container\">\n",
              "      <div>\n",
              "<style scoped>\n",
              "    .dataframe tbody tr th:only-of-type {\n",
              "        vertical-align: middle;\n",
              "    }\n",
              "\n",
              "    .dataframe tbody tr th {\n",
              "        vertical-align: top;\n",
              "    }\n",
              "\n",
              "    .dataframe thead th {\n",
              "        text-align: right;\n",
              "    }\n",
              "</style>\n",
              "<table border=\"1\" class=\"dataframe\">\n",
              "  <thead>\n",
              "    <tr style=\"text-align: right;\">\n",
              "      <th></th>\n",
              "      <th>User ID</th>\n",
              "      <th>Gender</th>\n",
              "      <th>Age</th>\n",
              "      <th>EstimatedSalary</th>\n",
              "      <th>Purchased</th>\n",
              "    </tr>\n",
              "  </thead>\n",
              "  <tbody>\n",
              "    <tr>\n",
              "      <th>0</th>\n",
              "      <td>15624510</td>\n",
              "      <td>Male</td>\n",
              "      <td>19</td>\n",
              "      <td>19000</td>\n",
              "      <td>0</td>\n",
              "    </tr>\n",
              "    <tr>\n",
              "      <th>1</th>\n",
              "      <td>15810944</td>\n",
              "      <td>Male</td>\n",
              "      <td>35</td>\n",
              "      <td>20000</td>\n",
              "      <td>0</td>\n",
              "    </tr>\n",
              "    <tr>\n",
              "      <th>2</th>\n",
              "      <td>15668575</td>\n",
              "      <td>Female</td>\n",
              "      <td>26</td>\n",
              "      <td>43000</td>\n",
              "      <td>0</td>\n",
              "    </tr>\n",
              "    <tr>\n",
              "      <th>3</th>\n",
              "      <td>15603246</td>\n",
              "      <td>Female</td>\n",
              "      <td>27</td>\n",
              "      <td>57000</td>\n",
              "      <td>0</td>\n",
              "    </tr>\n",
              "    <tr>\n",
              "      <th>4</th>\n",
              "      <td>15804002</td>\n",
              "      <td>Male</td>\n",
              "      <td>19</td>\n",
              "      <td>76000</td>\n",
              "      <td>0</td>\n",
              "    </tr>\n",
              "  </tbody>\n",
              "</table>\n",
              "</div>\n",
              "      <button class=\"colab-df-convert\" onclick=\"convertToInteractive('df-8cfa6450-27cf-4b33-ac04-a946784a7e2d')\"\n",
              "              title=\"Convert this dataframe to an interactive table.\"\n",
              "              style=\"display:none;\">\n",
              "        \n",
              "  <svg xmlns=\"http://www.w3.org/2000/svg\" height=\"24px\"viewBox=\"0 0 24 24\"\n",
              "       width=\"24px\">\n",
              "    <path d=\"M0 0h24v24H0V0z\" fill=\"none\"/>\n",
              "    <path d=\"M18.56 5.44l.94 2.06.94-2.06 2.06-.94-2.06-.94-.94-2.06-.94 2.06-2.06.94zm-11 1L8.5 8.5l.94-2.06 2.06-.94-2.06-.94L8.5 2.5l-.94 2.06-2.06.94zm10 10l.94 2.06.94-2.06 2.06-.94-2.06-.94-.94-2.06-.94 2.06-2.06.94z\"/><path d=\"M17.41 7.96l-1.37-1.37c-.4-.4-.92-.59-1.43-.59-.52 0-1.04.2-1.43.59L10.3 9.45l-7.72 7.72c-.78.78-.78 2.05 0 2.83L4 21.41c.39.39.9.59 1.41.59.51 0 1.02-.2 1.41-.59l7.78-7.78 2.81-2.81c.8-.78.8-2.07 0-2.86zM5.41 20L4 18.59l7.72-7.72 1.47 1.35L5.41 20z\"/>\n",
              "  </svg>\n",
              "      </button>\n",
              "      \n",
              "  <style>\n",
              "    .colab-df-container {\n",
              "      display:flex;\n",
              "      flex-wrap:wrap;\n",
              "      gap: 12px;\n",
              "    }\n",
              "\n",
              "    .colab-df-convert {\n",
              "      background-color: #E8F0FE;\n",
              "      border: none;\n",
              "      border-radius: 50%;\n",
              "      cursor: pointer;\n",
              "      display: none;\n",
              "      fill: #1967D2;\n",
              "      height: 32px;\n",
              "      padding: 0 0 0 0;\n",
              "      width: 32px;\n",
              "    }\n",
              "\n",
              "    .colab-df-convert:hover {\n",
              "      background-color: #E2EBFA;\n",
              "      box-shadow: 0px 1px 2px rgba(60, 64, 67, 0.3), 0px 1px 3px 1px rgba(60, 64, 67, 0.15);\n",
              "      fill: #174EA6;\n",
              "    }\n",
              "\n",
              "    [theme=dark] .colab-df-convert {\n",
              "      background-color: #3B4455;\n",
              "      fill: #D2E3FC;\n",
              "    }\n",
              "\n",
              "    [theme=dark] .colab-df-convert:hover {\n",
              "      background-color: #434B5C;\n",
              "      box-shadow: 0px 1px 3px 1px rgba(0, 0, 0, 0.15);\n",
              "      filter: drop-shadow(0px 1px 2px rgba(0, 0, 0, 0.3));\n",
              "      fill: #FFFFFF;\n",
              "    }\n",
              "  </style>\n",
              "\n",
              "      <script>\n",
              "        const buttonEl =\n",
              "          document.querySelector('#df-8cfa6450-27cf-4b33-ac04-a946784a7e2d button.colab-df-convert');\n",
              "        buttonEl.style.display =\n",
              "          google.colab.kernel.accessAllowed ? 'block' : 'none';\n",
              "\n",
              "        async function convertToInteractive(key) {\n",
              "          const element = document.querySelector('#df-8cfa6450-27cf-4b33-ac04-a946784a7e2d');\n",
              "          const dataTable =\n",
              "            await google.colab.kernel.invokeFunction('convertToInteractive',\n",
              "                                                     [key], {});\n",
              "          if (!dataTable) return;\n",
              "\n",
              "          const docLinkHtml = 'Like what you see? Visit the ' +\n",
              "            '<a target=\"_blank\" href=https://colab.research.google.com/notebooks/data_table.ipynb>data table notebook</a>'\n",
              "            + ' to learn more about interactive tables.';\n",
              "          element.innerHTML = '';\n",
              "          dataTable['output_type'] = 'display_data';\n",
              "          await google.colab.output.renderOutput(dataTable, element);\n",
              "          const docLink = document.createElement('div');\n",
              "          docLink.innerHTML = docLinkHtml;\n",
              "          element.appendChild(docLink);\n",
              "        }\n",
              "      </script>\n",
              "    </div>\n",
              "  </div>\n",
              "  "
            ]
          },
          "metadata": {},
          "execution_count": 64
        }
      ]
    },
    {
      "cell_type": "code",
      "source": [
        "df['Gender'].replace({'Male':0,'Female':1}, inplace=True)"
      ],
      "metadata": {
        "id": "JCndko-v8Ke2"
      },
      "execution_count": 67,
      "outputs": []
    },
    {
      "cell_type": "code",
      "source": [
        "x=df.iloc[: ,1 : 4] # all rows and 0, 1 to 3 column thats why 4 \n",
        "y=df.iloc[:,-1]"
      ],
      "metadata": {
        "id": "Ulo1dQHm8KiN"
      },
      "execution_count": 69,
      "outputs": []
    },
    {
      "cell_type": "code",
      "source": [
        "clf=DecisionTreeClassifier()\n",
        "clf.fit(x,y)"
      ],
      "metadata": {
        "colab": {
          "base_uri": "https://localhost:8080/"
        },
        "id": "SBiyXDT78Klp",
        "outputId": "ed9a1a22-265e-49ff-cf03-eb5597d65c39"
      },
      "execution_count": 70,
      "outputs": [
        {
          "output_type": "execute_result",
          "data": {
            "text/plain": [
              "DecisionTreeClassifier(criterion='entropy')"
            ]
          },
          "metadata": {},
          "execution_count": 70
        }
      ]
    },
    {
      "cell_type": "code",
      "source": [
        "plot_tree(clf) # if o/p is like this then its a over fitting. to solve this will have to make changes in the parameter of algo."
      ],
      "metadata": {
        "colab": {
          "base_uri": "https://localhost:8080/",
          "height": 1000
        },
        "id": "vB0fgwW48Ko5",
        "outputId": "d5a42800-a09a-4ccd-ab34-b3ba4b36ca59"
      },
      "execution_count": 71,
      "outputs": [
        {
          "output_type": "execute_result",
          "data": {
            "text/plain": [
              "[Text(0.44730392156862747, 0.96875, 'X[1] <= 42.5\\nentropy = 0.941\\nsamples = 400\\nvalue = [257, 143]'),\n",
              " Text(0.25980392156862747, 0.90625, 'X[2] <= 90500.0\\nentropy = 0.638\\nsamples = 285\\nvalue = [239, 46]'),\n",
              " Text(0.12745098039215685, 0.84375, 'X[1] <= 36.5\\nentropy = 0.23\\nsamples = 241\\nvalue = [232, 9]'),\n",
              " Text(0.10784313725490197, 0.78125, 'entropy = 0.0\\nsamples = 162\\nvalue = [162, 0]'),\n",
              " Text(0.14705882352941177, 0.78125, 'X[2] <= 67500.0\\nentropy = 0.512\\nsamples = 79\\nvalue = [70, 9]'),\n",
              " Text(0.12745098039215685, 0.71875, 'entropy = 0.0\\nsamples = 40\\nvalue = [40, 0]'),\n",
              " Text(0.16666666666666666, 0.71875, 'X[2] <= 83500.0\\nentropy = 0.779\\nsamples = 39\\nvalue = [30, 9]'),\n",
              " Text(0.14705882352941177, 0.65625, 'X[2] <= 70500.0\\nentropy = 0.7\\nsamples = 37\\nvalue = [30, 7]'),\n",
              " Text(0.09803921568627451, 0.59375, 'X[1] <= 39.5\\nentropy = 1.0\\nsamples = 2\\nvalue = [1, 1]'),\n",
              " Text(0.0784313725490196, 0.53125, 'entropy = 0.0\\nsamples = 1\\nvalue = [0, 1]'),\n",
              " Text(0.11764705882352941, 0.53125, 'entropy = 0.0\\nsamples = 1\\nvalue = [1, 0]'),\n",
              " Text(0.19607843137254902, 0.59375, 'X[1] <= 41.5\\nentropy = 0.661\\nsamples = 35\\nvalue = [29, 6]'),\n",
              " Text(0.1568627450980392, 0.53125, 'X[1] <= 40.5\\nentropy = 0.567\\nsamples = 30\\nvalue = [26, 4]'),\n",
              " Text(0.13725490196078433, 0.46875, 'X[2] <= 79500.0\\nentropy = 0.667\\nsamples = 23\\nvalue = [19, 4]'),\n",
              " Text(0.11764705882352941, 0.40625, 'X[2] <= 77500.0\\nentropy = 0.722\\nsamples = 20\\nvalue = [16, 4]'),\n",
              " Text(0.0784313725490196, 0.34375, 'X[1] <= 38.5\\nentropy = 0.544\\nsamples = 16\\nvalue = [14, 2]'),\n",
              " Text(0.058823529411764705, 0.28125, 'entropy = 0.0\\nsamples = 7\\nvalue = [7, 0]'),\n",
              " Text(0.09803921568627451, 0.28125, 'X[2] <= 76000.0\\nentropy = 0.764\\nsamples = 9\\nvalue = [7, 2]'),\n",
              " Text(0.0784313725490196, 0.21875, 'X[0] <= 0.5\\nentropy = 0.811\\nsamples = 8\\nvalue = [6, 2]'),\n",
              " Text(0.0392156862745098, 0.15625, 'X[1] <= 39.5\\nentropy = 0.918\\nsamples = 3\\nvalue = [2, 1]'),\n",
              " Text(0.0196078431372549, 0.09375, 'entropy = 0.0\\nsamples = 1\\nvalue = [1, 0]'),\n",
              " Text(0.058823529411764705, 0.09375, 'X[2] <= 73000.0\\nentropy = 1.0\\nsamples = 2\\nvalue = [1, 1]'),\n",
              " Text(0.0392156862745098, 0.03125, 'entropy = 0.0\\nsamples = 1\\nvalue = [0, 1]'),\n",
              " Text(0.0784313725490196, 0.03125, 'entropy = 0.0\\nsamples = 1\\nvalue = [1, 0]'),\n",
              " Text(0.11764705882352941, 0.15625, 'X[2] <= 74000.0\\nentropy = 0.722\\nsamples = 5\\nvalue = [4, 1]'),\n",
              " Text(0.09803921568627451, 0.09375, 'entropy = 0.0\\nsamples = 3\\nvalue = [3, 0]'),\n",
              " Text(0.13725490196078433, 0.09375, 'X[1] <= 39.5\\nentropy = 1.0\\nsamples = 2\\nvalue = [1, 1]'),\n",
              " Text(0.11764705882352941, 0.03125, 'entropy = 0.0\\nsamples = 1\\nvalue = [0, 1]'),\n",
              " Text(0.1568627450980392, 0.03125, 'entropy = 0.0\\nsamples = 1\\nvalue = [1, 0]'),\n",
              " Text(0.11764705882352941, 0.21875, 'entropy = 0.0\\nsamples = 1\\nvalue = [1, 0]'),\n",
              " Text(0.1568627450980392, 0.34375, 'X[1] <= 38.0\\nentropy = 1.0\\nsamples = 4\\nvalue = [2, 2]'),\n",
              " Text(0.13725490196078433, 0.28125, 'entropy = 0.0\\nsamples = 2\\nvalue = [0, 2]'),\n",
              " Text(0.17647058823529413, 0.28125, 'entropy = 0.0\\nsamples = 2\\nvalue = [2, 0]'),\n",
              " Text(0.1568627450980392, 0.40625, 'entropy = 0.0\\nsamples = 3\\nvalue = [3, 0]'),\n",
              " Text(0.17647058823529413, 0.46875, 'entropy = 0.0\\nsamples = 7\\nvalue = [7, 0]'),\n",
              " Text(0.23529411764705882, 0.53125, 'X[2] <= 74000.0\\nentropy = 0.971\\nsamples = 5\\nvalue = [3, 2]'),\n",
              " Text(0.21568627450980393, 0.46875, 'entropy = 0.0\\nsamples = 1\\nvalue = [0, 1]'),\n",
              " Text(0.2549019607843137, 0.46875, 'X[2] <= 79500.0\\nentropy = 0.811\\nsamples = 4\\nvalue = [3, 1]'),\n",
              " Text(0.23529411764705882, 0.40625, 'entropy = 0.0\\nsamples = 2\\nvalue = [2, 0]'),\n",
              " Text(0.27450980392156865, 0.40625, 'X[0] <= 0.5\\nentropy = 1.0\\nsamples = 2\\nvalue = [1, 1]'),\n",
              " Text(0.2549019607843137, 0.34375, 'entropy = 0.0\\nsamples = 1\\nvalue = [1, 0]'),\n",
              " Text(0.29411764705882354, 0.34375, 'entropy = 0.0\\nsamples = 1\\nvalue = [0, 1]'),\n",
              " Text(0.18627450980392157, 0.65625, 'entropy = 0.0\\nsamples = 2\\nvalue = [0, 2]'),\n",
              " Text(0.39215686274509803, 0.84375, 'X[2] <= 119000.0\\nentropy = 0.632\\nsamples = 44\\nvalue = [7, 37]'),\n",
              " Text(0.37254901960784315, 0.78125, 'X[2] <= 107500.0\\nentropy = 0.871\\nsamples = 24\\nvalue = [7, 17]'),\n",
              " Text(0.35294117647058826, 0.71875, 'entropy = 0.0\\nsamples = 11\\nvalue = [0, 11]'),\n",
              " Text(0.39215686274509803, 0.71875, 'X[1] <= 30.5\\nentropy = 0.996\\nsamples = 13\\nvalue = [7, 6]'),\n",
              " Text(0.37254901960784315, 0.65625, 'entropy = 0.0\\nsamples = 2\\nvalue = [2, 0]'),\n",
              " Text(0.4117647058823529, 0.65625, 'X[2] <= 117500.0\\nentropy = 0.994\\nsamples = 11\\nvalue = [5, 6]'),\n",
              " Text(0.39215686274509803, 0.59375, 'X[1] <= 40.0\\nentropy = 0.991\\nsamples = 9\\nvalue = [5, 4]'),\n",
              " Text(0.37254901960784315, 0.53125, 'X[2] <= 110000.0\\nentropy = 0.954\\nsamples = 8\\nvalue = [5, 3]'),\n",
              " Text(0.35294117647058826, 0.46875, 'entropy = 0.0\\nsamples = 1\\nvalue = [1, 0]'),\n",
              " Text(0.39215686274509803, 0.46875, 'X[1] <= 33.5\\nentropy = 0.985\\nsamples = 7\\nvalue = [4, 3]'),\n",
              " Text(0.35294117647058826, 0.40625, 'X[1] <= 32.5\\nentropy = 0.918\\nsamples = 3\\nvalue = [2, 1]'),\n",
              " Text(0.3333333333333333, 0.34375, 'entropy = 1.0\\nsamples = 2\\nvalue = [1, 1]'),\n",
              " Text(0.37254901960784315, 0.34375, 'entropy = 0.0\\nsamples = 1\\nvalue = [1, 0]'),\n",
              " Text(0.43137254901960786, 0.40625, 'X[2] <= 114000.0\\nentropy = 1.0\\nsamples = 4\\nvalue = [2, 2]'),\n",
              " Text(0.4117647058823529, 0.34375, 'X[1] <= 36.0\\nentropy = 0.918\\nsamples = 3\\nvalue = [1, 2]'),\n",
              " Text(0.39215686274509803, 0.28125, 'entropy = 0.0\\nsamples = 1\\nvalue = [0, 1]'),\n",
              " Text(0.43137254901960786, 0.28125, 'X[2] <= 112500.0\\nentropy = 1.0\\nsamples = 2\\nvalue = [1, 1]'),\n",
              " Text(0.4117647058823529, 0.21875, 'entropy = 0.0\\nsamples = 1\\nvalue = [1, 0]'),\n",
              " Text(0.45098039215686275, 0.21875, 'entropy = 0.0\\nsamples = 1\\nvalue = [0, 1]'),\n",
              " Text(0.45098039215686275, 0.34375, 'entropy = 0.0\\nsamples = 1\\nvalue = [1, 0]'),\n",
              " Text(0.4117647058823529, 0.53125, 'entropy = 0.0\\nsamples = 1\\nvalue = [0, 1]'),\n",
              " Text(0.43137254901960786, 0.59375, 'entropy = 0.0\\nsamples = 2\\nvalue = [0, 2]'),\n",
              " Text(0.4117647058823529, 0.78125, 'entropy = 0.0\\nsamples = 20\\nvalue = [0, 20]'),\n",
              " Text(0.6348039215686274, 0.90625, 'X[2] <= 38500.0\\nentropy = 0.626\\nsamples = 115\\nvalue = [18, 97]'),\n",
              " Text(0.47058823529411764, 0.84375, 'X[2] <= 22500.0\\nentropy = 0.191\\nsamples = 34\\nvalue = [1, 33]'),\n",
              " Text(0.45098039215686275, 0.78125, 'X[2] <= 21500.0\\nentropy = 0.65\\nsamples = 6\\nvalue = [1, 5]'),\n",
              " Text(0.43137254901960786, 0.71875, 'entropy = 0.0\\nsamples = 3\\nvalue = [0, 3]'),\n",
              " Text(0.47058823529411764, 0.71875, 'X[1] <= 45.5\\nentropy = 0.918\\nsamples = 3\\nvalue = [1, 2]'),\n",
              " Text(0.45098039215686275, 0.65625, 'entropy = 0.0\\nsamples = 2\\nvalue = [0, 2]'),\n",
              " Text(0.49019607843137253, 0.65625, 'entropy = 0.0\\nsamples = 1\\nvalue = [1, 0]'),\n",
              " Text(0.49019607843137253, 0.78125, 'entropy = 0.0\\nsamples = 28\\nvalue = [0, 28]'),\n",
              " Text(0.7990196078431373, 0.84375, 'X[1] <= 52.5\\nentropy = 0.741\\nsamples = 81\\nvalue = [17, 64]'),\n",
              " Text(0.696078431372549, 0.78125, 'X[2] <= 84000.0\\nentropy = 0.889\\nsamples = 49\\nvalue = [15, 34]'),\n",
              " Text(0.5784313725490197, 0.71875, 'X[2] <= 55000.0\\nentropy = 0.998\\nsamples = 19\\nvalue = [10, 9]'),\n",
              " Text(0.5294117647058824, 0.65625, 'X[2] <= 48000.0\\nentropy = 0.946\\nsamples = 11\\nvalue = [4, 7]'),\n",
              " Text(0.5098039215686274, 0.59375, 'X[2] <= 42000.0\\nentropy = 1.0\\nsamples = 8\\nvalue = [4, 4]'),\n",
              " Text(0.47058823529411764, 0.53125, 'X[1] <= 45.0\\nentropy = 0.811\\nsamples = 4\\nvalue = [1, 3]'),\n",
              " Text(0.45098039215686275, 0.46875, 'entropy = 0.0\\nsamples = 1\\nvalue = [1, 0]'),\n",
              " Text(0.49019607843137253, 0.46875, 'entropy = 0.0\\nsamples = 3\\nvalue = [0, 3]'),\n",
              " Text(0.5490196078431373, 0.53125, 'X[1] <= 46.0\\nentropy = 0.811\\nsamples = 4\\nvalue = [3, 1]'),\n",
              " Text(0.5294117647058824, 0.46875, 'entropy = 0.0\\nsamples = 1\\nvalue = [0, 1]'),\n",
              " Text(0.5686274509803921, 0.46875, 'entropy = 0.0\\nsamples = 3\\nvalue = [3, 0]'),\n",
              " Text(0.5490196078431373, 0.59375, 'entropy = 0.0\\nsamples = 3\\nvalue = [0, 3]'),\n",
              " Text(0.6274509803921569, 0.65625, 'X[0] <= 0.5\\nentropy = 0.811\\nsamples = 8\\nvalue = [6, 2]'),\n",
              " Text(0.6078431372549019, 0.59375, 'X[2] <= 69500.0\\nentropy = 0.918\\nsamples = 6\\nvalue = [4, 2]'),\n",
              " Text(0.5882352941176471, 0.53125, 'entropy = 0.0\\nsamples = 2\\nvalue = [2, 0]'),\n",
              " Text(0.6274509803921569, 0.53125, 'X[1] <= 45.5\\nentropy = 1.0\\nsamples = 4\\nvalue = [2, 2]'),\n",
              " Text(0.6078431372549019, 0.46875, 'entropy = 0.0\\nsamples = 1\\nvalue = [1, 0]'),\n",
              " Text(0.6470588235294118, 0.46875, 'X[1] <= 48.5\\nentropy = 0.918\\nsamples = 3\\nvalue = [1, 2]'),\n",
              " Text(0.6274509803921569, 0.40625, 'entropy = 0.0\\nsamples = 2\\nvalue = [0, 2]'),\n",
              " Text(0.6666666666666666, 0.40625, 'entropy = 0.0\\nsamples = 1\\nvalue = [1, 0]'),\n",
              " Text(0.6470588235294118, 0.59375, 'entropy = 0.0\\nsamples = 2\\nvalue = [2, 0]'),\n",
              " Text(0.8137254901960784, 0.71875, 'X[2] <= 93000.0\\nentropy = 0.65\\nsamples = 30\\nvalue = [5, 25]'),\n",
              " Text(0.7941176470588235, 0.65625, 'entropy = 0.0\\nsamples = 7\\nvalue = [0, 7]'),\n",
              " Text(0.8333333333333334, 0.65625, 'X[2] <= 142500.0\\nentropy = 0.755\\nsamples = 23\\nvalue = [5, 18]'),\n",
              " Text(0.8137254901960784, 0.59375, 'X[1] <= 50.0\\nentropy = 0.811\\nsamples = 20\\nvalue = [5, 15]'),\n",
              " Text(0.7647058823529411, 0.53125, 'X[2] <= 132000.0\\nentropy = 0.672\\nsamples = 17\\nvalue = [3, 14]'),\n",
              " Text(0.7254901960784313, 0.46875, 'X[2] <= 100500.0\\nentropy = 0.439\\nsamples = 11\\nvalue = [1, 10]'),\n",
              " Text(0.7058823529411765, 0.40625, 'X[1] <= 47.0\\nentropy = 1.0\\nsamples = 2\\nvalue = [1, 1]'),\n",
              " Text(0.6862745098039216, 0.34375, 'entropy = 0.0\\nsamples = 1\\nvalue = [1, 0]'),\n",
              " Text(0.7254901960784313, 0.34375, 'entropy = 0.0\\nsamples = 1\\nvalue = [0, 1]'),\n",
              " Text(0.7450980392156863, 0.40625, 'entropy = 0.0\\nsamples = 9\\nvalue = [0, 9]'),\n",
              " Text(0.803921568627451, 0.46875, 'X[2] <= 133500.0\\nentropy = 0.918\\nsamples = 6\\nvalue = [2, 4]'),\n",
              " Text(0.7843137254901961, 0.40625, 'entropy = 0.0\\nsamples = 1\\nvalue = [1, 0]'),\n",
              " Text(0.8235294117647058, 0.40625, 'X[0] <= 0.5\\nentropy = 0.722\\nsamples = 5\\nvalue = [1, 4]'),\n",
              " Text(0.803921568627451, 0.34375, 'entropy = 0.0\\nsamples = 1\\nvalue = [1, 0]'),\n",
              " Text(0.8431372549019608, 0.34375, 'entropy = 0.0\\nsamples = 4\\nvalue = [0, 4]'),\n",
              " Text(0.8627450980392157, 0.53125, 'X[2] <= 136000.0\\nentropy = 0.918\\nsamples = 3\\nvalue = [2, 1]'),\n",
              " Text(0.8431372549019608, 0.46875, 'entropy = 0.0\\nsamples = 2\\nvalue = [2, 0]'),\n",
              " Text(0.8823529411764706, 0.46875, 'entropy = 0.0\\nsamples = 1\\nvalue = [0, 1]'),\n",
              " Text(0.8529411764705882, 0.59375, 'entropy = 0.0\\nsamples = 3\\nvalue = [0, 3]'),\n",
              " Text(0.9019607843137255, 0.78125, 'X[1] <= 58.5\\nentropy = 0.337\\nsamples = 32\\nvalue = [2, 30]'),\n",
              " Text(0.8823529411764706, 0.71875, 'entropy = 0.0\\nsamples = 20\\nvalue = [0, 20]'),\n",
              " Text(0.9215686274509803, 0.71875, 'X[0] <= 0.5\\nentropy = 0.65\\nsamples = 12\\nvalue = [2, 10]'),\n",
              " Text(0.9019607843137255, 0.65625, 'entropy = 0.0\\nsamples = 6\\nvalue = [0, 6]'),\n",
              " Text(0.9411764705882353, 0.65625, 'X[2] <= 44000.0\\nentropy = 0.918\\nsamples = 6\\nvalue = [2, 4]'),\n",
              " Text(0.9215686274509803, 0.59375, 'entropy = 0.0\\nsamples = 1\\nvalue = [1, 0]'),\n",
              " Text(0.9607843137254902, 0.59375, 'X[1] <= 59.5\\nentropy = 0.722\\nsamples = 5\\nvalue = [1, 4]'),\n",
              " Text(0.9411764705882353, 0.53125, 'X[2] <= 79500.0\\nentropy = 0.918\\nsamples = 3\\nvalue = [1, 2]'),\n",
              " Text(0.9215686274509803, 0.46875, 'entropy = 0.0\\nsamples = 1\\nvalue = [0, 1]'),\n",
              " Text(0.9607843137254902, 0.46875, 'X[2] <= 85500.0\\nentropy = 1.0\\nsamples = 2\\nvalue = [1, 1]'),\n",
              " Text(0.9411764705882353, 0.40625, 'entropy = 0.0\\nsamples = 1\\nvalue = [1, 0]'),\n",
              " Text(0.9803921568627451, 0.40625, 'entropy = 0.0\\nsamples = 1\\nvalue = [0, 1]'),\n",
              " Text(0.9803921568627451, 0.53125, 'entropy = 0.0\\nsamples = 2\\nvalue = [0, 2]')]"
            ]
          },
          "metadata": {},
          "execution_count": 71
        },
        {
          "output_type": "display_data",
          "data": {
            "text/plain": [
              "<Figure size 432x288 with 1 Axes>"
            ],
            "image/png": "[encoded data removed]"
          },
          "metadata": {
            "needs_background": "light"
          }
        }
      ]
    },
    {
      "cell_type": "code",
      "source": [
        "clf1=DecisionTreeClassifier( max_depth=3)\n",
        "clf1.fit(x,y)"
      ],
      "metadata": {
        "colab": {
          "base_uri": "https://localhost:8080/"
        },
        "id": "kjqcww_r8Krp",
        "outputId": "293d36e9-721e-40f2-a27e-de6237c0eb0c"
      },
      "execution_count": 72,
      "outputs": [
        {
          "output_type": "execute_result",
          "data": {
            "text/plain": [
              "DecisionTreeClassifier(max_depth=3)"
            ]
          },
          "metadata": {},
          "execution_count": 72
        }
      ]
    },
    {
      "cell_type": "code",
      "source": [
        "plot_tree(clf1)"
      ],
      "metadata": {
        "colab": {
          "base_uri": "https://localhost:8080/",
          "height": 508
        },
        "id": "Hm5jXIXJ8KvF",
        "outputId": "7a6797b9-a0a3-47e7-e446-0f2952e73a75"
      },
      "execution_count": 73,
      "outputs": [
        {
          "output_type": "execute_result",
          "data": {
            "text/plain": [
              "[Text(0.5, 0.875, 'X[1] <= 42.5\\ngini = 0.459\\nsamples = 400\\nvalue = [257, 143]'),\n",
              " Text(0.25, 0.625, 'X[2] <= 90500.0\\ngini = 0.271\\nsamples = 285\\nvalue = [239, 46]'),\n",
              " Text(0.125, 0.375, 'X[1] <= 36.5\\ngini = 0.072\\nsamples = 241\\nvalue = [232, 9]'),\n",
              " Text(0.0625, 0.125, 'gini = 0.0\\nsamples = 162\\nvalue = [162, 0]'),\n",
              " Text(0.1875, 0.125, 'gini = 0.202\\nsamples = 79\\nvalue = [70, 9]'),\n",
              " Text(0.375, 0.375, 'X[2] <= 119000.0\\ngini = 0.268\\nsamples = 44\\nvalue = [7, 37]'),\n",
              " Text(0.3125, 0.125, 'gini = 0.413\\nsamples = 24\\nvalue = [7, 17]'),\n",
              " Text(0.4375, 0.125, 'gini = 0.0\\nsamples = 20\\nvalue = [0, 20]'),\n",
              " Text(0.75, 0.625, 'X[1] <= 46.5\\ngini = 0.264\\nsamples = 115\\nvalue = [18, 97]'),\n",
              " Text(0.625, 0.375, 'X[2] <= 35500.0\\ngini = 0.444\\nsamples = 24\\nvalue = [8, 16]'),\n",
              " Text(0.5625, 0.125, 'gini = 0.219\\nsamples = 8\\nvalue = [1, 7]'),\n",
              " Text(0.6875, 0.125, 'gini = 0.492\\nsamples = 16\\nvalue = [7, 9]'),\n",
              " Text(0.875, 0.375, 'X[2] <= 41500.0\\ngini = 0.196\\nsamples = 91\\nvalue = [10, 81]'),\n",
              " Text(0.8125, 0.125, 'gini = 0.0\\nsamples = 29\\nvalue = [0, 29]'),\n",
              " Text(0.9375, 0.125, 'gini = 0.271\\nsamples = 62\\nvalue = [10, 52]')]"
            ]
          },
          "metadata": {},
          "execution_count": 73
        },
        {
          "output_type": "display_data",
          "data": {
            "text/plain": [
              "<Figure size 432x288 with 1 Axes>"
            ],
            "image/png": "[encoded data removed]"
          },
          "metadata": {
            "needs_background": "light"
          }
        }
      ]
    }
  ],
  "metadata": {
    "colab": {
      "name": "Decision tree 1 .ipynb",
      "provenance": [],
      "collapsed_sections": [],
      "mount_file_id": "15wGNYkS024uN3QhofFOdguQR3xEP-d4q",
      "authorship_tag": "ABX9TyNpqjCxG/bwu/EI6errUUkx",
      "include_colab_link": true
    },
    "kernelspec": {
      "display_name": "Python 3",
      "name": "python3"
    },
    "language_info": {
      "name": "python"
    }
  },
  "nbformat": 4,
  "nbformat_minor": 0
}